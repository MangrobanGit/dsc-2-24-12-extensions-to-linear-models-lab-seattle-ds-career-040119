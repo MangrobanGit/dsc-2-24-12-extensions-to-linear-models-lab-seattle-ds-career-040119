{
 "cells": [
  {
   "cell_type": "markdown",
   "metadata": {},
   "source": [
    "# Extensions to Linear Models - Lab"
   ]
  },
  {
   "cell_type": "markdown",
   "metadata": {},
   "source": [
    "## Introduction\n",
    "\n",
    "In this lab, you'll practice many concepts learned in this section, from adding interactions and polynomials to your model to AIC and BIC!"
   ]
  },
  {
   "cell_type": "markdown",
   "metadata": {},
   "source": [
    "## Summary\n",
    "\n",
    "You will be able to:\n",
    "- Build a linear regression model with polynomial features/interactions\n",
    "- Perform regularization\n",
    "- Use AIC and BIC to select the best value for the regularization parameter\n"
   ]
  },
  {
   "cell_type": "markdown",
   "metadata": {},
   "source": [
    "## Let's get started!"
   ]
  },
  {
   "cell_type": "markdown",
   "metadata": {},
   "source": [
    "Import all the necessary packages."
   ]
  },
  {
   "cell_type": "code",
   "execution_count": 1,
   "metadata": {},
   "outputs": [],
   "source": [
    "import pandas as pd\n",
    "import numpy as np\n",
    "import matplotlib.pyplot as plt\n",
    "#import warnings\n",
    "#warnings.filterwarnings('ignore')\n",
    "\n",
    "from sklearn.linear_model import LinearRegression\n",
    "from sklearn.model_selection import cross_val_score\n",
    "from sklearn.model_selection import KFold\n",
    "from sklearn import preprocessing\n",
    "\n",
    "from sklearn.datasets import load_boston"
   ]
  },
  {
   "cell_type": "markdown",
   "metadata": {},
   "source": [
    "## Look at a Baseline Boston Housing Data Model"
   ]
  },
  {
   "cell_type": "markdown",
   "metadata": {},
   "source": [
    "Import the Boston housing data set, use all the predictors in their scaled version (using `preprocessing.scale`. Look at a baseline model using *scaled variables* as predictors. Use 5-fold cross-validation this time and use the $R^2$ score to evaluate the model."
   ]
  },
  {
   "cell_type": "code",
   "execution_count": 2,
   "metadata": {},
   "outputs": [],
   "source": [
    "boston = load_boston()\n",
    "X = pd.DataFrame(boston.data, columns=boston.feature_names)"
   ]
  },
  {
   "cell_type": "code",
   "execution_count": 3,
   "metadata": {},
   "outputs": [
    {
     "name": "stdout",
     "output_type": "stream",
     "text": [
      "<class 'pandas.core.frame.DataFrame'>\n",
      "RangeIndex: 506 entries, 0 to 505\n",
      "Data columns (total 13 columns):\n",
      "CRIM       506 non-null float64\n",
      "ZN         506 non-null float64\n",
      "INDUS      506 non-null float64\n",
      "CHAS       506 non-null float64\n",
      "NOX        506 non-null float64\n",
      "RM         506 non-null float64\n",
      "AGE        506 non-null float64\n",
      "DIS        506 non-null float64\n",
      "RAD        506 non-null float64\n",
      "TAX        506 non-null float64\n",
      "PTRATIO    506 non-null float64\n",
      "B          506 non-null float64\n",
      "LSTAT      506 non-null float64\n",
      "dtypes: float64(13)\n",
      "memory usage: 51.5 KB\n"
     ]
    }
   ],
   "source": [
    "X.info()"
   ]
  },
  {
   "cell_type": "markdown",
   "metadata": {},
   "source": [
    "All floats, so don't have to worry about dealing with binarizing variables.\n",
    "Let's scale the variables.  \n",
    "\n",
    "But first let's get the target variable, and then train|test split."
   ]
  },
  {
   "cell_type": "code",
   "execution_count": 4,
   "metadata": {},
   "outputs": [],
   "source": [
    "y = pd.DataFrame(boston.target, columns=['PRICE'])"
   ]
  },
  {
   "cell_type": "code",
   "execution_count": 5,
   "metadata": {},
   "outputs": [],
   "source": [
    "from sklearn.model_selection import train_test_split"
   ]
  },
  {
   "cell_type": "code",
   "execution_count": 6,
   "metadata": {},
   "outputs": [],
   "source": [
    "np.random.seed(8675309)\n",
    "X_tr, X_te, y_tr, y_te, idx_tr, idx_te = train_test_split( X, y, range(len(y)))"
   ]
  },
  {
   "cell_type": "code",
   "execution_count": 7,
   "metadata": {},
   "outputs": [],
   "source": [
    "ss = preprocessing.StandardScaler()\n",
    "\n",
    "sfit = ss.fit(X_tr)"
   ]
  },
  {
   "cell_type": "code",
   "execution_count": 8,
   "metadata": {},
   "outputs": [],
   "source": [
    "X_sc_tr = pd.DataFrame(sfit.transform(X_tr), columns=X_tr.columns)\n",
    "X_sc_te = pd.DataFrame(sfit.transform(X_te), columns=X_te.columns)"
   ]
  },
  {
   "cell_type": "code",
   "execution_count": 9,
   "metadata": {},
   "outputs": [],
   "source": [
    "lr = LinearRegression()"
   ]
  },
  {
   "cell_type": "code",
   "execution_count": 10,
   "metadata": {},
   "outputs": [
    {
     "data": {
      "text/plain": [
       "0.6806568932790938"
      ]
     },
     "execution_count": 10,
     "metadata": {},
     "output_type": "execute_result"
    }
   ],
   "source": [
    "cv = KFold(n_splits=5, shuffle=True, random_state=1)\n",
    "\n",
    "baseline = np.mean(cross_val_score(lr, X_tr, y_tr, scoring=\"r2\", cv=cv))\n",
    "baseline"
   ]
  },
  {
   "cell_type": "markdown",
   "metadata": {},
   "source": [
    "## Include interactions\n",
    "\n",
    "Look at all the possible combinations of variables for interactions by adding interactions one by one to the baseline model. Next, evaluate that model using 5-fold cross validation and store the $R^2$ to compare it with the baseline model.\n",
    "\n",
    "You've created code for this before in the interactions lab, yet this time, you have scaled the variables so the outcomes may look different. \n",
    "\n",
    "Print the 7 most important interactions."
   ]
  },
  {
   "cell_type": "markdown",
   "metadata": {},
   "source": [
    "Write code to include the 7 most important interactions in your data set by adding 7 columns. Name the columns \"var1_var2\" with var1 and var2 the two variables in the interaction."
   ]
  },
  {
   "cell_type": "code",
   "execution_count": 11,
   "metadata": {},
   "outputs": [],
   "source": [
    "# Your code here"
   ]
  },
  {
   "cell_type": "code",
   "execution_count": 12,
   "metadata": {},
   "outputs": [],
   "source": [
    "from itertools import combinations"
   ]
  },
  {
   "cell_type": "code",
   "execution_count": 13,
   "metadata": {},
   "outputs": [],
   "source": [
    "combos = list(combinations(X_sc_tr, 2))"
   ]
  },
  {
   "cell_type": "code",
   "execution_count": 14,
   "metadata": {},
   "outputs": [
    {
     "data": {
      "text/plain": [
       "[('CRIM', 'ZN'),\n",
       " ('CRIM', 'INDUS'),\n",
       " ('CRIM', 'CHAS'),\n",
       " ('CRIM', 'NOX'),\n",
       " ('CRIM', 'RM'),\n",
       " ('CRIM', 'AGE'),\n",
       " ('CRIM', 'DIS'),\n",
       " ('CRIM', 'RAD'),\n",
       " ('CRIM', 'TAX'),\n",
       " ('CRIM', 'PTRATIO'),\n",
       " ('CRIM', 'B'),\n",
       " ('CRIM', 'LSTAT'),\n",
       " ('ZN', 'INDUS'),\n",
       " ('ZN', 'CHAS'),\n",
       " ('ZN', 'NOX'),\n",
       " ('ZN', 'RM'),\n",
       " ('ZN', 'AGE'),\n",
       " ('ZN', 'DIS'),\n",
       " ('ZN', 'RAD'),\n",
       " ('ZN', 'TAX'),\n",
       " ('ZN', 'PTRATIO'),\n",
       " ('ZN', 'B'),\n",
       " ('ZN', 'LSTAT'),\n",
       " ('INDUS', 'CHAS'),\n",
       " ('INDUS', 'NOX'),\n",
       " ('INDUS', 'RM'),\n",
       " ('INDUS', 'AGE'),\n",
       " ('INDUS', 'DIS'),\n",
       " ('INDUS', 'RAD'),\n",
       " ('INDUS', 'TAX'),\n",
       " ('INDUS', 'PTRATIO'),\n",
       " ('INDUS', 'B'),\n",
       " ('INDUS', 'LSTAT'),\n",
       " ('CHAS', 'NOX'),\n",
       " ('CHAS', 'RM'),\n",
       " ('CHAS', 'AGE'),\n",
       " ('CHAS', 'DIS'),\n",
       " ('CHAS', 'RAD'),\n",
       " ('CHAS', 'TAX'),\n",
       " ('CHAS', 'PTRATIO'),\n",
       " ('CHAS', 'B'),\n",
       " ('CHAS', 'LSTAT'),\n",
       " ('NOX', 'RM'),\n",
       " ('NOX', 'AGE'),\n",
       " ('NOX', 'DIS'),\n",
       " ('NOX', 'RAD'),\n",
       " ('NOX', 'TAX'),\n",
       " ('NOX', 'PTRATIO'),\n",
       " ('NOX', 'B'),\n",
       " ('NOX', 'LSTAT'),\n",
       " ('RM', 'AGE'),\n",
       " ('RM', 'DIS'),\n",
       " ('RM', 'RAD'),\n",
       " ('RM', 'TAX'),\n",
       " ('RM', 'PTRATIO'),\n",
       " ('RM', 'B'),\n",
       " ('RM', 'LSTAT'),\n",
       " ('AGE', 'DIS'),\n",
       " ('AGE', 'RAD'),\n",
       " ('AGE', 'TAX'),\n",
       " ('AGE', 'PTRATIO'),\n",
       " ('AGE', 'B'),\n",
       " ('AGE', 'LSTAT'),\n",
       " ('DIS', 'RAD'),\n",
       " ('DIS', 'TAX'),\n",
       " ('DIS', 'PTRATIO'),\n",
       " ('DIS', 'B'),\n",
       " ('DIS', 'LSTAT'),\n",
       " ('RAD', 'TAX'),\n",
       " ('RAD', 'PTRATIO'),\n",
       " ('RAD', 'B'),\n",
       " ('RAD', 'LSTAT'),\n",
       " ('TAX', 'PTRATIO'),\n",
       " ('TAX', 'B'),\n",
       " ('TAX', 'LSTAT'),\n",
       " ('PTRATIO', 'B'),\n",
       " ('PTRATIO', 'LSTAT'),\n",
       " ('B', 'LSTAT')]"
      ]
     },
     "execution_count": 14,
     "metadata": {},
     "output_type": "execute_result"
    }
   ],
   "source": [
    "combos"
   ]
  },
  {
   "cell_type": "code",
   "execution_count": 15,
   "metadata": {},
   "outputs": [
    {
     "data": {
      "text/plain": [
       "('CRIM', 'ZN')"
      ]
     },
     "execution_count": 15,
     "metadata": {},
     "output_type": "execute_result"
    }
   ],
   "source": [
    "combo_test = combos[0]\n",
    "combo_test"
   ]
  },
  {
   "cell_type": "code",
   "execution_count": 16,
   "metadata": {},
   "outputs": [
    {
     "data": {
      "text/plain": [
       "0.6806568932790938"
      ]
     },
     "execution_count": 16,
     "metadata": {},
     "output_type": "execute_result"
    }
   ],
   "source": [
    "baseline"
   ]
  },
  {
   "cell_type": "code",
   "execution_count": 17,
   "metadata": {},
   "outputs": [],
   "source": [
    "#Initialize list to store good scores\n",
    "interacts = []\n",
    "\n",
    "#For each combo, subset on that interaction only and create and score an LR\n",
    "for combo in combos:\n",
    "    \n",
    "    #subset\n",
    "    X_sc_tr[\"curr_iteract\"] = X_sc_tr[combo[0]] * X_sc_tr[combo[1]]\n",
    "    \n",
    "    #model\n",
    "    this_lr = LinearRegression()\n",
    "    k10 = KFold(n_splits=10, shuffle=True)\n",
    "    \n",
    "    #score\n",
    "    this_score = np.mean(cross_val_score(estimator=this_lr\n",
    "                   ,X=X_sc_tr\n",
    "                   ,y=y_tr\n",
    "                   ,scoring='r2'\n",
    "                   ,cv=k10))\n",
    "    \n",
    "    #Add if 'better' (>) than baseline\n",
    "    if this_score > baseline:\n",
    "        interacts.append((combo[0], combo[1], this_score))\n",
    "\n"
   ]
  },
  {
   "cell_type": "code",
   "execution_count": 18,
   "metadata": {},
   "outputs": [
    {
     "data": {
      "text/plain": [
       "[('INDUS', 'RM', 0.7653859458015946),\n",
       " ('RM', 'TAX', 0.7625969790793649),\n",
       " ('RM', 'RAD', 0.7505890468962788),\n",
       " ('RM', 'LSTAT', 0.7358920095972259),\n",
       " ('RM', 'DIS', 0.7265713397178384),\n",
       " ('RM', 'AGE', 0.7238678290484863),\n",
       " ('NOX', 'RM', 0.7235996432121552)]"
      ]
     },
     "execution_count": 18,
     "metadata": {},
     "output_type": "execute_result"
    }
   ],
   "source": [
    "#Sort the list, show top 7\n",
    "interacts = sorted(interacts, key = lambda this_inter : this_inter[2], reverse=True)\n",
    "interacts[:7]"
   ]
  },
  {
   "cell_type": "code",
   "execution_count": 30,
   "metadata": {},
   "outputs": [],
   "source": [
    "# Make a copy of orig df\n",
    "X_inter_tr = X_tr.copy()\n",
    "X_inter_te = X_te.copy()\n",
    "\n",
    "# Add the 7 columns\n",
    "for inter in interacts[:7]:\n",
    "    X_inter_tr[inter[0]+\"_\"+inter[1]] = X_inter_tr[inter[0]]*X_inter_tr[inter[1]]\n",
    "    X_inter_te[inter[0]+\"_\"+inter[1]] = X_inter_te[inter[0]]*X_inter_te[inter[1]]\n"
   ]
  },
  {
   "cell_type": "code",
   "execution_count": 31,
   "metadata": {},
   "outputs": [
    {
     "data": {
      "text/html": [
       "<div>\n",
       "<style scoped>\n",
       "    .dataframe tbody tr th:only-of-type {\n",
       "        vertical-align: middle;\n",
       "    }\n",
       "\n",
       "    .dataframe tbody tr th {\n",
       "        vertical-align: top;\n",
       "    }\n",
       "\n",
       "    .dataframe thead th {\n",
       "        text-align: right;\n",
       "    }\n",
       "</style>\n",
       "<table border=\"1\" class=\"dataframe\">\n",
       "  <thead>\n",
       "    <tr style=\"text-align: right;\">\n",
       "      <th></th>\n",
       "      <th>CRIM</th>\n",
       "      <th>ZN</th>\n",
       "      <th>INDUS</th>\n",
       "      <th>CHAS</th>\n",
       "      <th>NOX</th>\n",
       "      <th>RM</th>\n",
       "      <th>AGE</th>\n",
       "      <th>DIS</th>\n",
       "      <th>RAD</th>\n",
       "      <th>TAX</th>\n",
       "      <th>PTRATIO</th>\n",
       "      <th>B</th>\n",
       "      <th>LSTAT</th>\n",
       "      <th>INDUS_RM</th>\n",
       "      <th>RM_TAX</th>\n",
       "      <th>RM_RAD</th>\n",
       "      <th>RM_LSTAT</th>\n",
       "      <th>RM_DIS</th>\n",
       "      <th>RM_AGE</th>\n",
       "      <th>NOX_RM</th>\n",
       "    </tr>\n",
       "  </thead>\n",
       "  <tbody>\n",
       "    <tr>\n",
       "      <th>150</th>\n",
       "      <td>1.65660</td>\n",
       "      <td>0.0</td>\n",
       "      <td>19.58</td>\n",
       "      <td>0.0</td>\n",
       "      <td>0.871</td>\n",
       "      <td>6.122</td>\n",
       "      <td>97.3</td>\n",
       "      <td>1.6180</td>\n",
       "      <td>5.0</td>\n",
       "      <td>403.0</td>\n",
       "      <td>14.7</td>\n",
       "      <td>372.80</td>\n",
       "      <td>14.10</td>\n",
       "      <td>119.86876</td>\n",
       "      <td>2467.166</td>\n",
       "      <td>30.610</td>\n",
       "      <td>86.32020</td>\n",
       "      <td>9.905396</td>\n",
       "      <td>595.6706</td>\n",
       "      <td>5.332262</td>\n",
       "    </tr>\n",
       "    <tr>\n",
       "      <th>73</th>\n",
       "      <td>0.19539</td>\n",
       "      <td>0.0</td>\n",
       "      <td>10.81</td>\n",
       "      <td>0.0</td>\n",
       "      <td>0.413</td>\n",
       "      <td>6.245</td>\n",
       "      <td>6.2</td>\n",
       "      <td>5.2873</td>\n",
       "      <td>4.0</td>\n",
       "      <td>305.0</td>\n",
       "      <td>19.2</td>\n",
       "      <td>377.17</td>\n",
       "      <td>7.54</td>\n",
       "      <td>67.50845</td>\n",
       "      <td>1904.725</td>\n",
       "      <td>24.980</td>\n",
       "      <td>47.08730</td>\n",
       "      <td>33.019188</td>\n",
       "      <td>38.7190</td>\n",
       "      <td>2.579185</td>\n",
       "    </tr>\n",
       "    <tr>\n",
       "      <th>207</th>\n",
       "      <td>0.25199</td>\n",
       "      <td>0.0</td>\n",
       "      <td>10.59</td>\n",
       "      <td>0.0</td>\n",
       "      <td>0.489</td>\n",
       "      <td>5.783</td>\n",
       "      <td>72.7</td>\n",
       "      <td>4.3549</td>\n",
       "      <td>4.0</td>\n",
       "      <td>277.0</td>\n",
       "      <td>18.6</td>\n",
       "      <td>389.43</td>\n",
       "      <td>18.06</td>\n",
       "      <td>61.24197</td>\n",
       "      <td>1601.891</td>\n",
       "      <td>23.132</td>\n",
       "      <td>104.44098</td>\n",
       "      <td>25.184387</td>\n",
       "      <td>420.4241</td>\n",
       "      <td>2.827887</td>\n",
       "    </tr>\n",
       "    <tr>\n",
       "      <th>291</th>\n",
       "      <td>0.07886</td>\n",
       "      <td>80.0</td>\n",
       "      <td>4.95</td>\n",
       "      <td>0.0</td>\n",
       "      <td>0.411</td>\n",
       "      <td>7.148</td>\n",
       "      <td>27.7</td>\n",
       "      <td>5.1167</td>\n",
       "      <td>4.0</td>\n",
       "      <td>245.0</td>\n",
       "      <td>19.2</td>\n",
       "      <td>396.90</td>\n",
       "      <td>3.56</td>\n",
       "      <td>35.38260</td>\n",
       "      <td>1751.260</td>\n",
       "      <td>28.592</td>\n",
       "      <td>25.44688</td>\n",
       "      <td>36.574172</td>\n",
       "      <td>197.9996</td>\n",
       "      <td>2.937828</td>\n",
       "    </tr>\n",
       "    <tr>\n",
       "      <th>307</th>\n",
       "      <td>0.04932</td>\n",
       "      <td>33.0</td>\n",
       "      <td>2.18</td>\n",
       "      <td>0.0</td>\n",
       "      <td>0.472</td>\n",
       "      <td>6.849</td>\n",
       "      <td>70.3</td>\n",
       "      <td>3.1827</td>\n",
       "      <td>7.0</td>\n",
       "      <td>222.0</td>\n",
       "      <td>18.4</td>\n",
       "      <td>396.90</td>\n",
       "      <td>7.53</td>\n",
       "      <td>14.93082</td>\n",
       "      <td>1520.478</td>\n",
       "      <td>47.943</td>\n",
       "      <td>51.57297</td>\n",
       "      <td>21.798312</td>\n",
       "      <td>481.4847</td>\n",
       "      <td>3.232728</td>\n",
       "    </tr>\n",
       "  </tbody>\n",
       "</table>\n",
       "</div>"
      ],
      "text/plain": [
       "        CRIM    ZN  INDUS  CHAS    NOX     RM   AGE     DIS  RAD    TAX  \\\n",
       "150  1.65660   0.0  19.58   0.0  0.871  6.122  97.3  1.6180  5.0  403.0   \n",
       "73   0.19539   0.0  10.81   0.0  0.413  6.245   6.2  5.2873  4.0  305.0   \n",
       "207  0.25199   0.0  10.59   0.0  0.489  5.783  72.7  4.3549  4.0  277.0   \n",
       "291  0.07886  80.0   4.95   0.0  0.411  7.148  27.7  5.1167  4.0  245.0   \n",
       "307  0.04932  33.0   2.18   0.0  0.472  6.849  70.3  3.1827  7.0  222.0   \n",
       "\n",
       "     PTRATIO       B  LSTAT   INDUS_RM    RM_TAX  RM_RAD   RM_LSTAT  \\\n",
       "150     14.7  372.80  14.10  119.86876  2467.166  30.610   86.32020   \n",
       "73      19.2  377.17   7.54   67.50845  1904.725  24.980   47.08730   \n",
       "207     18.6  389.43  18.06   61.24197  1601.891  23.132  104.44098   \n",
       "291     19.2  396.90   3.56   35.38260  1751.260  28.592   25.44688   \n",
       "307     18.4  396.90   7.53   14.93082  1520.478  47.943   51.57297   \n",
       "\n",
       "        RM_DIS    RM_AGE    NOX_RM  \n",
       "150   9.905396  595.6706  5.332262  \n",
       "73   33.019188   38.7190  2.579185  \n",
       "207  25.184387  420.4241  2.827887  \n",
       "291  36.574172  197.9996  2.937828  \n",
       "307  21.798312  481.4847  3.232728  "
      ]
     },
     "execution_count": 31,
     "metadata": {},
     "output_type": "execute_result"
    }
   ],
   "source": [
    "X_inter_tr.head()"
   ]
  },
  {
   "cell_type": "markdown",
   "metadata": {},
   "source": [
    "## Include Polynomials"
   ]
  },
  {
   "cell_type": "markdown",
   "metadata": {},
   "source": [
    "Try polynomials of 2, 3 and 4 for each variable, in a similar way you did for interactions (by looking at your baseline model and seeing how $R^2$ increases). Do understand that when going for a polynomial of 4, the particular column is raised to the power of 2 and 3 as well in other terms. We only want to include \"pure\" polynomials, so make sure no interactions are included. We want the result to return a list that contain tuples of the form:\n",
    "\n",
    "`(var_name, degree, R2)`, so eg. `('DIS', 3, 0.732)`"
   ]
  },
  {
   "cell_type": "code",
   "execution_count": 21,
   "metadata": {},
   "outputs": [],
   "source": [
    "from sklearn.preprocessing import PolynomialFeatures"
   ]
  },
  {
   "cell_type": "code",
   "execution_count": 22,
   "metadata": {},
   "outputs": [],
   "source": [
    "polys = []\n",
    "\n",
    "for col in X_tr.columns:\n",
    "    for degree in [2,3,4]:\n",
    "        # Create poly object\n",
    "        pf = PolynomialFeatures(degree=degree, include_bias=False)\n",
    "        \n",
    "        # Generate polynomial for column and transform\n",
    "        X_col_pf= pf.fit_transform(X_tr[[col]])\n",
    "#         print(X_col_pf.shape)\n",
    "        # Combine with orig training set\n",
    "        this_tr = X_tr.copy()\n",
    "#         print(this_tr.shape)\n",
    "        this_tr = pd.concat([this_tr.drop(col, axis=1), pd.DataFrame(X_col_pf, index=idx_tr)], axis=1)\n",
    "        \n",
    "#       print(this_tr.shape)\n",
    "        #Score and store\n",
    "        this_score = np.mean(cross_val_score(estimator=this_lr\n",
    "                       ,X=this_tr\n",
    "                       ,y=y_tr\n",
    "                       ,scoring='r2'\n",
    "                       ,cv=k10))\n",
    "        \n",
    "        polys.append((col, degree, round(this_score,3)))\n",
    "        "
   ]
  },
  {
   "cell_type": "code",
   "execution_count": 23,
   "metadata": {},
   "outputs": [
    {
     "data": {
      "text/plain": [
       "[('RM', 4, 0.778),\n",
       " ('LSTAT', 2, 0.756),\n",
       " ('LSTAT', 4, 0.743),\n",
       " ('RM', 3, 0.742),\n",
       " ('DIS', 3, 0.732),\n",
       " ('RM', 2, 0.73),\n",
       " ('INDUS', 4, 0.71)]"
      ]
     },
     "execution_count": 23,
     "metadata": {},
     "output_type": "execute_result"
    }
   ],
   "source": [
    "# Your code here\n",
    "polys_sorted = sorted(polys, key = lambda poly : poly[2], reverse=True)\n",
    "polys_sorted[:7]"
   ]
  },
  {
   "cell_type": "markdown",
   "metadata": {},
   "source": [
    "For each variable, print out the maximum R2 possible when including Polynomials."
   ]
  },
  {
   "cell_type": "code",
   "execution_count": 24,
   "metadata": {},
   "outputs": [
    {
     "data": {
      "text/plain": [
       "0\n",
       "AGE        0.699\n",
       "B          0.707\n",
       "CHAS       0.702\n",
       "CRIM       0.701\n",
       "DIS        0.732\n",
       "INDUS      0.710\n",
       "LSTAT      0.756\n",
       "NOX        0.693\n",
       "PTRATIO    0.695\n",
       "RAD        0.707\n",
       "RM         0.778\n",
       "TAX        0.709\n",
       "ZN         0.701\n",
       "Name: 2, dtype: float64"
      ]
     },
     "execution_count": 24,
     "metadata": {},
     "output_type": "execute_result"
    }
   ],
   "source": [
    "polys_df = pd.DataFrame(polys_sorted)\n",
    "polys_df.groupby(by=[0])[2].max()"
   ]
  },
  {
   "cell_type": "markdown",
   "metadata": {},
   "source": [
    "Which two variables seem to benefit most from adding Polynomial terms?"
   ]
  },
  {
   "cell_type": "markdown",
   "metadata": {},
   "source": [
    "> `LSTAT` and `RM`"
   ]
  },
  {
   "cell_type": "markdown",
   "metadata": {},
   "source": [
    "Add Polynomials for the two features that seem to benefit the most, as in have the best R squared compared to the baseline model. For each of the two feature, raise to the Polynomial that generates the best result. Make sure to start from the data set `df_inter` so the final data set has both interactions and polynomials in the model."
   ]
  },
  {
   "cell_type": "code",
   "execution_count": 32,
   "metadata": {},
   "outputs": [],
   "source": [
    "# Your code here\n",
    "\n",
    "# 'RM', 4, 0.778\n",
    "X_inter_tr['RM_4'] = X_inter_tr['RM']**4\n",
    "X_inter_te['RM_4'] = X_inter_te['RM']**4\n",
    "    \n",
    "# 'LSTAT', 2, 0.756\n",
    "X_inter_tr['LSTAT_2'] = X_inter_tr['LSTAT']**2\n",
    "X_inter_te['LSTAT_2'] = X_inter_te['LSTAT']**2\n"
   ]
  },
  {
   "cell_type": "markdown",
   "metadata": {},
   "source": [
    "check out your final data set and make sure that your interaction terms as well as your polynomial terms are included."
   ]
  },
  {
   "cell_type": "code",
   "execution_count": 35,
   "metadata": {},
   "outputs": [
    {
     "data": {
      "text/plain": [
       "(379, 22)"
      ]
     },
     "execution_count": 35,
     "metadata": {},
     "output_type": "execute_result"
    }
   ],
   "source": [
    "# Your code here\n",
    "X_inter_te.head().T\n",
    "X_inter_tr.shape"
   ]
  },
  {
   "cell_type": "code",
   "execution_count": 36,
   "metadata": {},
   "outputs": [
    {
     "data": {
      "text/plain": [
       "(127, 22)"
      ]
     },
     "execution_count": 36,
     "metadata": {},
     "output_type": "execute_result"
    }
   ],
   "source": [
    "X_inter_te.shape"
   ]
  },
  {
   "cell_type": "markdown",
   "metadata": {},
   "source": [
    "## Full model R-squared"
   ]
  },
  {
   "cell_type": "markdown",
   "metadata": {},
   "source": [
    "Check out the R-squared of the full model."
   ]
  },
  {
   "cell_type": "code",
   "execution_count": 39,
   "metadata": {},
   "outputs": [],
   "source": [
    "# Your code here\n",
    "\n",
    "# Declare model object\n",
    "lr_full = LinearRegression()\n",
    "\n",
    "# Set up kfold\n",
    "k10_full = KFold(n_splits=10, shuffle=True)\n",
    "\n",
    "r2_full = np.mean(cross_val_score(estimator=lr_full, X=X_inter_tr, y=y_tr\n",
    "                                 ,scoring='r2'\n",
    "                                 ,cv=k10_full))\n"
   ]
  },
  {
   "cell_type": "code",
   "execution_count": 40,
   "metadata": {},
   "outputs": [
    {
     "name": "stdout",
     "output_type": "stream",
     "text": [
      "0.7363876020789252\n"
     ]
    }
   ],
   "source": [
    "print(r2_full)"
   ]
  },
  {
   "cell_type": "code",
   "execution_count": 41,
   "metadata": {},
   "outputs": [
    {
     "data": {
      "text/plain": [
       "0.6806568932790938"
      ]
     },
     "execution_count": 41,
     "metadata": {},
     "output_type": "execute_result"
    }
   ],
   "source": [
    "baseline"
   ]
  },
  {
   "cell_type": "markdown",
   "metadata": {},
   "source": [
    "Better!"
   ]
  },
  {
   "cell_type": "markdown",
   "metadata": {},
   "source": [
    "## Finding the best Lasso regularization parameter"
   ]
  },
  {
   "cell_type": "markdown",
   "metadata": {},
   "source": [
    "You've learned that, when using Lasso regularization, your coefficients shrink to 0 when using a higher regularization parameter. Now the question is which value we should choose for the regularization parameter. \n",
    "\n",
    "This is where the AIC and BIC come in handy! We'll use both criteria in what follows and perform cross-validation to select an optimal value of the regularization parameter alpha of the Lasso estimator.\n",
    "\n",
    "Read the page here: https://scikit-learn.org/stable/auto_examples/linear_model/plot_lasso_model_selection.html and create a similar plot as the first one listed on the page. "
   ]
  },
  {
   "cell_type": "code",
   "execution_count": 42,
   "metadata": {},
   "outputs": [],
   "source": [
    "# Your code here\n",
    "from sklearn.linear_model import LassoCV, LassoLarsCV, LassoLarsIC"
   ]
  },
  {
   "cell_type": "code",
   "execution_count": 44,
   "metadata": {},
   "outputs": [
    {
     "data": {
      "text/html": [
       "<div>\n",
       "<style scoped>\n",
       "    .dataframe tbody tr th:only-of-type {\n",
       "        vertical-align: middle;\n",
       "    }\n",
       "\n",
       "    .dataframe tbody tr th {\n",
       "        vertical-align: top;\n",
       "    }\n",
       "\n",
       "    .dataframe thead th {\n",
       "        text-align: right;\n",
       "    }\n",
       "</style>\n",
       "<table border=\"1\" class=\"dataframe\">\n",
       "  <thead>\n",
       "    <tr style=\"text-align: right;\">\n",
       "      <th></th>\n",
       "      <th>PRICE</th>\n",
       "    </tr>\n",
       "  </thead>\n",
       "  <tbody>\n",
       "    <tr>\n",
       "      <th>150</th>\n",
       "      <td>21.5</td>\n",
       "    </tr>\n",
       "    <tr>\n",
       "      <th>73</th>\n",
       "      <td>23.4</td>\n",
       "    </tr>\n",
       "    <tr>\n",
       "      <th>207</th>\n",
       "      <td>22.5</td>\n",
       "    </tr>\n",
       "    <tr>\n",
       "      <th>291</th>\n",
       "      <td>37.3</td>\n",
       "    </tr>\n",
       "    <tr>\n",
       "      <th>307</th>\n",
       "      <td>28.2</td>\n",
       "    </tr>\n",
       "  </tbody>\n",
       "</table>\n",
       "</div>"
      ],
      "text/plain": [
       "     PRICE\n",
       "150   21.5\n",
       "73    23.4\n",
       "207   22.5\n",
       "291   37.3\n",
       "307   28.2"
      ]
     },
     "execution_count": 44,
     "metadata": {},
     "output_type": "execute_result"
    }
   ],
   "source": [
    "y_tr.head()"
   ]
  },
  {
   "cell_type": "markdown",
   "metadata": {},
   "source": [
    "Model Lasso's using with AIC and BIC tgt metrics"
   ]
  },
  {
   "cell_type": "code",
   "execution_count": 47,
   "metadata": {},
   "outputs": [],
   "source": [
    "model_aic = LassoLarsIC(criterion='aic')\n",
    "model_aic.fit(X_inter_tr, y_tr['PRICE'])\n",
    "alpha_aic_ = model_aic.alpha_\n",
    "\n",
    "model_bic = LassoLarsIC(criterion='bic')\n",
    "model_bic.fit(X_inter_tr, y_tr['PRICE'])\n",
    "alpha_bic_ = model_bic.alpha_"
   ]
  },
  {
   "cell_type": "code",
   "execution_count": 51,
   "metadata": {},
   "outputs": [],
   "source": [
    "def plot_ic_criterion(model, name, color):\n",
    "    alpha_ = model.alpha_\n",
    "    alphas_ = model.alphas_\n",
    "    criterion_ = model.criterion_\n",
    "    plt.plot(-np.log(alphas_), criterion_, '--', color=color, linewidth=2, label= name)\n",
    "    plt.axvline(-np.log(alpha_), color=color, linewidth=2,\n",
    "                label='alpha for %s ' % name)\n",
    "    plt.xlabel('-log(alpha)')\n",
    "    plt.ylabel('criterion')"
   ]
  },
  {
   "cell_type": "code",
   "execution_count": 52,
   "metadata": {},
   "outputs": [
    {
     "name": "stderr",
     "output_type": "stream",
     "text": [
      "/opt/conda/envs/learn-env/lib/python3.6/site-packages/ipykernel_launcher.py:5: RuntimeWarning: divide by zero encountered in log\n",
      "  \"\"\"\n"
     ]
    },
    {
     "data": {
      "image/png": "[encoded data removed]",
      "text/plain": [
       "<Figure size 432x288 with 1 Axes>"
      ]
     },
     "metadata": {
      "needs_background": "light"
     },
     "output_type": "display_data"
    }
   ],
   "source": [
    "plt.figure()\n",
    "plot_ic_criterion(model_aic, 'AIC', 'green')\n",
    "plot_ic_criterion(model_bic, 'BIC', 'blue')\n",
    "plt.legend()\n",
    "plt.title('Information-criterion for model selection');"
   ]
  },
  {
   "cell_type": "markdown",
   "metadata": {},
   "source": [
    "## Analyze the final result\n",
    "\n",
    "Finally, use the best value for regularization parameter according to AIC and BIC and compare the R squared parameters and MSE using train-test-split. Compare with the baseline model."
   ]
  },
  {
   "cell_type": "code",
   "execution_count": 11,
   "metadata": {},
   "outputs": [],
   "source": [
    "# Code for baseline model\n"
   ]
  },
  {
   "cell_type": "code",
   "execution_count": 60,
   "metadata": {},
   "outputs": [],
   "source": [
    "from sklearn.linear_model import Lasso\n",
    "from sklearn.metrics import mean_squared_error "
   ]
  },
  {
   "cell_type": "code",
   "execution_count": 61,
   "metadata": {},
   "outputs": [
    {
     "name": "stderr",
     "output_type": "stream",
     "text": [
      "/opt/conda/envs/learn-env/lib/python3.6/site-packages/sklearn/linear_model/coordinate_descent.py:492: ConvergenceWarning: Objective did not converge. You might want to increase the number of iterations. Fitting data with very small alpha may cause precision problems.\n",
      "  ConvergenceWarning)\n"
     ]
    },
    {
     "data": {
      "text/plain": [
       "Lasso(alpha=0.003020702946989505, copy_X=True, fit_intercept=True,\n",
       "   max_iter=1000, normalize=False, positive=False, precompute=False,\n",
       "   random_state=None, selection='cyclic', tol=0.0001, warm_start=False)"
      ]
     },
     "execution_count": 61,
     "metadata": {},
     "output_type": "execute_result"
    }
   ],
   "source": [
    "# code for lasso with alpha from AIC\n",
    "lasso = Lasso(alpha= model_aic.alpha_) \n",
    "lasso.fit(X_inter_tr, y_tr)"
   ]
  },
  {
   "cell_type": "code",
   "execution_count": 62,
   "metadata": {},
   "outputs": [
    {
     "name": "stdout",
     "output_type": "stream",
     "text": [
      "Training r^2: 0.8192205967383073\n",
      "Testing r^2: 0.8393055781849577\n",
      "Training MSE: 15.96143964647289\n",
      "Testing MSE: 11.68080030791132\n"
     ]
    }
   ],
   "source": [
    "print('Training r^2:', lasso.score(X_inter_tr, y_tr))\n",
    "print('Testing r^2:', lasso.score(X_inter_te, y_te))\n",
    "\n",
    "print('Training MSE:', mean_squared_error(y_tr, lasso.predict(X_inter_tr)))\n",
    "print('Testing MSE:', mean_squared_error(y_te, lasso.predict(X_inter_te)))"
   ]
  },
  {
   "cell_type": "code",
   "execution_count": 63,
   "metadata": {},
   "outputs": [],
   "source": [
    "# code for lasso with alpha from BIC"
   ]
  },
  {
   "cell_type": "markdown",
   "metadata": {},
   "source": [
    "## Level Up - Optional"
   ]
  },
  {
   "cell_type": "markdown",
   "metadata": {},
   "source": [
    "### Create a Lasso Path\n",
    "\n",
    "From this section, you know that when using lasso, more parameters shrink to zero as your regularization parameter goes up. In Scikit-Learn there is a function lasso_path which visualizes the shrinkage of the coefficients while alpha changes. Try this out yourself!\n",
    "\n",
    "https://scikit-learn.org/stable/auto_examples/linear_model/plot_lasso_coordinate_descent_path.html#sphx-glr-auto-examples-linear-model-plot-lasso-coordinate-descent-path-py"
   ]
  },
  {
   "cell_type": "markdown",
   "metadata": {},
   "source": [
    "### AIC and BIC for subset selection\n",
    "This notebook shows how you can use AIC and BIC purely for feature selection. Try this code out on our Boston Housing data!"
   ]
  },
  {
   "cell_type": "markdown",
   "metadata": {},
   "source": [
    "https://xavierbourretsicotte.github.io/subset_selection.html"
   ]
  },
  {
   "cell_type": "markdown",
   "metadata": {},
   "source": [
    "## Summary"
   ]
  },
  {
   "cell_type": "markdown",
   "metadata": {},
   "source": [
    "Congratulations! You now know how to create better linear models and how to use AIC and BIC for both feature selection and to optimize your regularization parameter when performing Ridge and Lasso. "
   ]
  }
 ],
 "metadata": {
  "kernelspec": {
   "display_name": "Python 3",
   "language": "python",
   "name": "python3"
  },
  "language_info": {
   "codemirror_mode": {
    "name": "ipython",
    "version": 3
   },
   "file_extension": ".py",
   "mimetype": "text/x-python",
   "name": "python",
   "nbconvert_exporter": "python",
   "pygments_lexer": "ipython3",
   "version": "3.6.6"
  }
 },
 "nbformat": 4,
 "nbformat_minor": 2
}
